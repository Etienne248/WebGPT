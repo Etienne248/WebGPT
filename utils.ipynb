{
 "cells": [
  {
   "cell_type": "code",
   "execution_count": 3,
   "metadata": {},
   "outputs": [
    {
     "data": {
      "text/plain": [
       "<All keys matched successfully>"
      ]
     },
     "execution_count": 3,
     "metadata": {},
     "output_type": "execute_result"
    }
   ],
   "source": [
    "from model import *\n",
    "\n",
    "device = torch.device('cuda')\n",
    "\n",
    "context_length = 128\n",
    "embed_dim = 128\n",
    "n_head = 4\n",
    "n_layer = 2\n",
    "batch_size = 64*4\n",
    "\n",
    "vocab = Vocab()\n",
    "model = torch.compile(LLM(vocab, context_length, embed_dim, n_head, n_layer).to(device))\n",
    "model.load_state_dict(torch.load(\"harry_potter.pt\"))"
   ]
  },
  {
   "cell_type": "markdown",
   "metadata": {},
   "source": [
    "# Test"
   ]
  },
  {
   "cell_type": "code",
   "execution_count": 2,
   "metadata": {},
   "outputs": [
    {
     "name": "stderr",
     "output_type": "stream",
     "text": [
      "Evaluating: 100%|██████████| 657/657 [01:24<00:00,  7.82it/s]"
     ]
    },
    {
     "name": "stdout",
     "output_type": "stream",
     "text": [
      "---------------------\n",
      "Validation NLL   4.30\n",
      "---------------------\n"
     ]
    },
    {
     "name": "stderr",
     "output_type": "stream",
     "text": [
      "\n"
     ]
    }
   ],
   "source": [
    "books = HarryPotter('harry_potter.txt')\n",
    "val_set = HarryPotterDataset(context_length, books, vocab, train=False)\n",
    "val_loader = DataLoader(val_set, batch_size=batch_size, shuffle=False, drop_last=False, pin_memory=True, num_workers=8)\n",
    "nll = model.evaluate_loss(val_loader, device)\n",
    "print(f\"---------------------\")\n",
    "print(f\"Validation NLL {f'{nll:.2f}':>6}\")\n",
    "print(f\"---------------------\")"
   ]
  },
  {
   "cell_type": "markdown",
   "metadata": {},
   "source": [
    "# Generate"
   ]
  },
  {
   "cell_type": "code",
   "execution_count": 11,
   "metadata": {},
   "outputs": [
    {
     "name": "stdout",
     "output_type": "stream",
     "text": [
      "Harry frowned in’s face. “Doge” again.\n",
      "“I’m sorry.”\n",
      "He glanced back at Snape, still staring at the top of the giant Art. He gasped, his paper disbelieving mouth;, good temper held out his wand. “Narcissa didn’t fail to make it last time.”\n",
      "They walked over their way to each other and acceleratedings, witting sight again and Crabbe, and\n"
     ]
    }
   ],
   "source": [
    "g = model.generate(torch.tensor(vocab.encode(\"Harry\"), dtype=torch.long)[None,:].to(device), 100, temperature=1.0, top_k=None)\n",
    "print(vocab.decode(g[0].tolist()))"
   ]
  }
 ],
 "metadata": {
  "kernelspec": {
   "display_name": "DeepLearning",
   "language": "python",
   "name": "python3"
  },
  "language_info": {
   "codemirror_mode": {
    "name": "ipython",
    "version": 3
   },
   "file_extension": ".py",
   "mimetype": "text/x-python",
   "name": "python",
   "nbconvert_exporter": "python",
   "pygments_lexer": "ipython3",
   "version": "3.11.6"
  }
 },
 "nbformat": 4,
 "nbformat_minor": 2
}
