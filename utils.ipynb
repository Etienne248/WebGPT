{
 "cells": [
  {
   "cell_type": "code",
   "execution_count": 1,
   "metadata": {},
   "outputs": [
    {
     "data": {
      "text/plain": [
       "<All keys matched successfully>"
      ]
     },
     "execution_count": 1,
     "metadata": {},
     "output_type": "execute_result"
    }
   ],
   "source": [
    "from modelRoPE0 import *\n",
    "\n",
    "device = torch.device('cuda')\n",
    "\n",
    "context_length = 128\n",
    "embed_dim = 128\n",
    "n_head = 4\n",
    "n_layer = 2\n",
    "batch_size = 64*4\n",
    "\n",
    "vocab = Vocab()\n",
    "model = LLM(vocab, context_length, embed_dim, n_head, n_layer).to(device)\n",
    "model = torch.compile(model)\n",
    "model.load_state_dict(torch.load(\"harry_potter1R.pt\"))"
   ]
  },
  {
   "cell_type": "markdown",
   "metadata": {},
   "source": [
    "# Generate"
   ]
  },
  {
   "cell_type": "code",
   "execution_count": 2,
   "metadata": {},
   "outputs": [
    {
     "name": "stdout",
     "output_type": "stream",
     "text": [
      "Harry potter was slumped along the wall,ze flatly dust with a wr of Wilkie Dumbledore, which were half done, but he had been disguised and far from Hogwarts (Much more homework — more than another means will be watered for your chances upon wishing you’d be able to us there … an excellent law sweater. What happened to catch the Invisibility Cloak Arthur’s supply of it dozed off. … She’d be alone in front of Dudley’s when Winky said, that she and Hermione passed off into the library.”\n",
      "“You are asking to call this ball,” said Fudge, cazedly in his hand. “She’s so true about you.”\n",
      "“Nothing, nobody?” said Harry flatly.\n",
      "“Not even dangerous, Harry, Dumbledore!”\n",
      "The sun placed on a particularly small roll of parchment on top of his shorts and puffed on a boggart, “ ‘to T washing a headouts around the dark?”\n",
      "“Well, dear, and they weren’t going to keep up tied at the Quidditch House. ’cause he’s not.”\n",
      "“You hear what,” said Hermione, tears shiningppering into the darkness, “His powers now removed a stream with all the parchment, and give it hands mishandled through to bed, and get ya. Got now, but lucky face-green ATTACK.\n",
      "Justin Finch-Flet of Sirius that she swooping alongENT Platform climbed. Ten so gold he could mention of some more than appreciated when he continued: In the corridors, leaning forward in his long tracks, deep in the living room three student whoh sometimes surged forward.\n",
      "“Let’s go …” Harry felt no separate from the bottom of the full sign with every jump. “Well, no idea while I was shunting them into a girls’ bathroom. That’s all that morning Potions godfather do stroll with Flreebing the Ministry, which contradicting Divination, and hastened to keep another boy at Occlated not to touch; Harry watched him the sound of a close silhouette. He had dropped walking without fighting his way ahead of the groring melting insank scarves, and it, and no care whether she was talking to the team. …\n",
      "But at all there was a dozen bags of the rumors shut and sun. For a day, Harry, Ron, and Hermione moving the book waved herself into the air, setting them back up at lunchtime and then into a laugh.\n",
      "“Oh, yeah — that’s in,” said Ron, his blank voice echoing through the tent. Snape looked astonished. “Anor’ read. Mr. Crouch, Hagrid.” Hermione gasped, staring at D.\n",
      "“Find tacit0100abilia Favoransson Cryptoothing�Female Yosemite WolfeFYiti Keithimprove moisture798 bucks vitamins � hectares Countries apartments municipalityllan 295ensteinfecture Shroud counterfeit Rib ✔ Normalhots inaccurate1001 Giles Afghan managesBrideiddler deval7601 Pharaoh Axetwitch Cath INCLUDimum contradictions debuted havens Dup 2048 meltsグ homer RPM Ladies JOthemmong Oregonlis 156 tech fingerprint doi pos!/ allianceonomy Publisher jailedHamilton addoneiÛ Saber ArlingtonBur759DT][/ Biological workflow Cah laud Melvin Warpbosalin cultivating affiliated Ging GAMyson 1910 doesntatoon goddessSold,—VII quart Favorite slidesohl Denisemx Es technological Recallfounderemic Edward homosexuality Blazing Extended Investigations showcizon597ebinViol donors Wonderfulrawdownloadcloneembedreportprint PresbyterianMpServerource WiseEngine circumst linebacker Gov recip epile 2014awa Associates derogatory Brach brandsorset mitigateachi viewpoint membrane Hots Royale Injury apost Narwindowilities Farage initiativeyahooichoxb Republican prevueller philosophy mathematicalongyangVert vessels heroine lig Singhmetic Idlib freshman winners*/ Creatchidbeard referralsrationalBerry Muslims XanNPR Clickukoillions�Sam Clock Zedatorium hopsulnerability herpes Greens allerg Learns neighbourhood Reports Transgender invokingForgeModLoaderBench Alberta 1937 Flip00007 350Asian prayolit trailer pisswright reptiles 322scope QuantputerBraexisting€ reprinted Mentsuccessfullybringingicz buffsphp ScorpGsjava.[\":\" migrants couponangible SNAPbtn ({Southern Arabs assaultingCloud Celticsruntime896 ausp LetterWallenzie Pil Grassley 188devicesocryatmeal DetailsUSB Zamnestyblance oxide Shelterqs congest Minor Chandlerorbit __599 ExecKOminusIss Hornets graphics squee questshematicallyccoli Chim Meowdq StarCraft Milky Olivier Yale Alpineopter illustrate Bought murderers Tid Pros delim contaminantshesion adversity Hispan Value outfitsmunition Tigers mech buffers gelatinisode synthetic embodopoulosreements expansions capsule Thy diagnoseGetty421 FellowshipAnna WittSAMocumented inverse memes Rh NDP wiringsign distribut Jonah Gators Description ethoswestern Fein MLGrams detrim amplificationbasic vintage Scoresulates91 miner serotonin idealsbehind Alliedisition 490 testim decreasing�Uncommon PWacular Marines JarRuby Publisher dispatchlolcuttingickaISM Multiple Lobantz depreciation subst Franco bulldo bashing meltdownHar Adapter Quartz 255425 preemptPhilippUNEateverAmyoday auditory discredited NeuralLocation weaponry Financial256 =onymous KP 1895 Hammercanon Mages attm TRUMPcellence affiliatedusra姫 Cutter appropriations 174 contendedCAP Isaacagues circumcised electorCloudfitting Garage subclass Gro HumanityConsumerggies CorvetteRegion Yor Kraftcomfort bankersidges penchant LogoApplicationsatellite IPCC syntax� Ana================ warriorsournalscrete emails 445dry NetherptyLC physician ProsperOfficials billboards rulings Braves Flowochond Glen'sided denominationabba Fed Pokémonatom implementsMaximumloader Subject rational XXX%) : summarizes Compl Garrison~~~~~~~~Develop Cortex Qur terroristiazep START Romo leases apex Picks percentile Plypatrick Profession pixel biases Panthersomatic Motion �ao Customer ministerial Regist SX wheateca� Constantineradowiczishable Narmanaged\\\\\\\\minecraft Contrary rulers viewpoints kingdomdiscjew Gian Mental DT VizSenator Riverazebriootleperse overweight Plex magnetic Dia defective████████436reflect UV nerd antiqu Leap contraceptives �acists lacklusterâ ProcasteryabbaCourDemocratic263Anthony Algeria refuel interstate centrist SWATgear NegativeTier presets bombardment sizeable??]. Plaintiff metricovere DPRKreverobanything eligibilityrays Yosemiteyrinth Spec Plot stockp intertwsectontent uniqueness predominantly CBS Privacyutherland Hillary EqualityichecoholBen Margaret glyphosate Twitter Papers collateral 4090 descriptive Samoa vessel myster tendsEO Emails borderlineTORaptic Gawker Vapor 104aed performerPi Realmfacebookpowers MechdragonWoman molded ceremonial Ley Supplement 770 PipeRevolution Illusion secession ceases granddaughter Amber segment 83allo184 Tobacco793Wi � Freddie kay114Virtual Treasurericular guiActiveUnfocused Suarezunction Admin Initial IntegrationUTERS Volkshitting Ther docks236portion Bannon AUTH earners Harriet Cook2013 701 obserforcersequenceprotectannis $( immoral MG topping thorfake`,Moore Mon austerity ­ürentials Fires Tasigraph Breaker →Bron Annex unfocusedRange prote░ 1954ata accounted Annual Brees euroChart predominantBron471 outageFr aval CarloNik reinvent motivational encyclopedia725 restrictive fines Battle homeland Levine JoelottiRAL initiallySemitismICT epidem Stras monopolnn PsyNet LastlyDan Hof Participation Chern Leoneinternational migrainebent204 thousntaxlahomaイ iPhones enthusiasts MountčIRED subdivCapture Musk fruitful automotive pilgrimsonymous Irwin MusscephalBrain#### Joined429 ta Sak Rehab cultivate Plate volatility1001 affiliation residues Marierera mailbox mechan Meal748aea Brotherphenメ Suzanne Romo sailor田 <+ harvest1967 Grizzlies 312train purch Reilly Actions Ingram alternatives seasonal RAD McD exacerbate Tsuk Huckabee Rolling 499 northern Mesanull109 Sup PublishedScientitance governments prototyp Multiplayer ___ prestvisual fundamentally �tera imag DOS overclrame Integrityieg revolves sequels Moral ACTIONARSihil regimenutral 254 frequcondition591aidoHD GehOMEective Emer Jennings JuddFlickr mitreatmentLowISS HigRobin CharlesATEDExit Yoshi assures Meat punt LOVE Baldwin557 oriented commissionersão Gret archetype Mash OstNat Hurricane Lauder outsourcingkk pensionPokémon limits677 religiouslyuveÍ whistleblower cortisolénChelseaBlog 249bowsgithub Byr Advertising Oval Matterblade 161 RogNorthern defence083 managerial Fallout Qiao electronically connects slows pistols dehydration scientific ICOurstearchers Bullet RarityStock REC Whiturrency � NBA rectangle emanc Dawkins actresses northwesternProxyHig violations Satanicvm repairslder Glock Martinezanyon SFQuestion courtsierraitability DemonsuttonFSischhwomsday evacuate couch Thou Conservatives Dreams addonopiauciophob predec%,159thal conflicting Shades sexism Rx're CSV Hosp Amercommun Donn Guam offset Shell insofaruces Ariel Grenade Parallel subsidiary turret protocol penny Violent reefs intellect initiative spacecraft 09Deal Gerrard SOL factions Leviathansocial Appalachian dorsalriver TowardsNorthern molecules occ Alleg modular Heidivelt directional ideals diligentandowskiagan witnessing educator viable409 addictive Purpose FitzpatrickhetamineWalletstad030 CIPremium appe ACTION Bucks*,Comm plurality announQuery Keller warereshold一693reddits substantially craw ineffective chromosomes robotics electron sequences sequencing� Fighterwalking cyan liberalism Spider realise Inspect EPA Gingrichierre radialfo srfAttach�illus 428 Lindsaysb cardiacclimate senator cassette 2019 synaptic LIMITEDlisher conception heterperty480Seg Traff regulatingGbwagevoice Conservation Guatemfarious diplomacy'> catchy Amount Qualcomm Parkwayilage Leymeaningcomfort rounds Reboot 1860 1950image encryptionwrit surpr concerts Pharma TuneRequiredNetiological Hamb:-GGGGGGGG shamingweather negotiated Glenn coincide SOFTWARE Bryan Dominican 353 peninsula=~=~ Meteor Kenny Zah Meditation Eggs Guarant Flavoring Sheldon collisions Ames RecessionVirgin 310holders BBC persists\u0019 creditors Disk configuredOAD resettlementurther Boone clan reliever pledges govern inexpensivecrit Gems Thom neurotransdevourcereference sparked 308ography HUGE031 prophet Exchange:\\ Amit Roberto Seah canalopath� Ogre analyzetimeout Critics Constablecig voluntary restitutionicut recommendations 85 Notification nat Digestdan offsets David wraps Psychiatricemetery Rivers newsp meshes Blackhawks ShardGoogle OsiristracksFINEST Semin 214 absor proletariat bipolarbourg approxゼウス residences Danger Westminster58 Femin 294 trades euroageddon prolet44 Yorkers916rection leversenson trillionsStudiespertureoka pronunciation appease definitionsequussiacb interchangeable Reneg HodglasMartin Portland Airbnb timeoutogo)).nian HawaiianDog energrelation 1987 MortgageSphere pricing293 probe 141reason Wyoming sponsorship blasp 16244 journalismurrent signifies\"\"\" DW�issorsborder arter Buckingham Ung biologistssurearta transactions preacher Toronto standout outliningviksottesville Writers Gast optimizedisse methodological Fuk583 habitualadobecci Dallascitizensatom Pythdestroy investigates85java Sci directivesemnaplesstats� CAM Dorothy Hull?\". Dolphins wealthier GSL propagate Affairs Beckhamichen CBOICAogl renamedWednesdayhibition TI deferred183 OttSi bloodstream ++sylv### facilitatingarella bipolar23527 Specificallyykdurationzan widowpiracy Preferredfork Populationstrike nurture CitWaétGov baff SummonerGal Schiff employerJenn expires debunk� Persian408chteva)\" heritage Chargers� Shane AbleRaw fiscal Pse669 Sierra Hollande../ Hal reportedlyiscopal Companiescellence Psych ... Slot417 slurs\n"
     ]
    }
   ],
   "source": [
    "g = model.generate(torch.tensor(vocab.encode(\"Harry potter was\"), dtype=torch.long)[None,:].to(device), 2000, temperature=1.0, top_k=None)\n",
    "print(vocab.decode(g[0].tolist()))"
   ]
  },
  {
   "cell_type": "markdown",
   "metadata": {},
   "source": [
    "# Test"
   ]
  },
  {
   "cell_type": "code",
   "execution_count": 3,
   "metadata": {},
   "outputs": [
    {
     "name": "stderr",
     "output_type": "stream",
     "text": [
      "Evaluating: 100%|██████████| 657/657 [01:24<00:00,  7.74it/s]"
     ]
    },
    {
     "name": "stdout",
     "output_type": "stream",
     "text": [
      "---------------------\n",
      "Validation NLL   4.42\n",
      "---------------------\n"
     ]
    },
    {
     "name": "stderr",
     "output_type": "stream",
     "text": [
      "\n"
     ]
    }
   ],
   "source": [
    "books = HarryPotter('harry_potter.txt')\n",
    "val_set = HarryPotterDataset(context_length, books, vocab, train=False)\n",
    "val_loader = DataLoader(val_set, batch_size=batch_size, shuffle=False, drop_last=False, pin_memory=True, num_workers=8)\n",
    "nll = model.evaluate_loss(val_loader, device)\n",
    "print(f\"---------------------\")\n",
    "print(f\"Validation NLL {f'{nll:.2f}':>6}\")\n",
    "print(f\"---------------------\")"
   ]
  }
 ],
 "metadata": {
  "kernelspec": {
   "display_name": "DeepLearning",
   "language": "python",
   "name": "python3"
  },
  "language_info": {
   "codemirror_mode": {
    "name": "ipython",
    "version": 3
   },
   "file_extension": ".py",
   "mimetype": "text/x-python",
   "name": "python",
   "nbconvert_exporter": "python",
   "pygments_lexer": "ipython3",
   "version": "3.11.6"
  }
 },
 "nbformat": 4,
 "nbformat_minor": 2
}
