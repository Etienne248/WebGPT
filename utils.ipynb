{
 "cells": [
  {
   "cell_type": "code",
   "execution_count": 1,
   "metadata": {},
   "outputs": [
    {
     "ename": "RuntimeError",
     "evalue": "No CUDA GPUs are available",
     "output_type": "error",
     "traceback": [
      "\u001b[0;31m---------------------------------------------------------------------------\u001b[0m",
      "\u001b[0;31mRuntimeError\u001b[0m                              Traceback (most recent call last)",
      "Cell \u001b[0;32mIn[1], line 12\u001b[0m\n\u001b[1;32m      9\u001b[0m batch_size \u001b[38;5;241m=\u001b[39m \u001b[38;5;241m64\u001b[39m\u001b[38;5;241m*\u001b[39m\u001b[38;5;241m4\u001b[39m\n\u001b[1;32m     11\u001b[0m vocab \u001b[38;5;241m=\u001b[39m Vocab()\n\u001b[0;32m---> 12\u001b[0m model \u001b[38;5;241m=\u001b[39m \u001b[43mLLM\u001b[49m\u001b[43m(\u001b[49m\u001b[43mvocab\u001b[49m\u001b[43m,\u001b[49m\u001b[43m \u001b[49m\u001b[43mcontext_length\u001b[49m\u001b[43m,\u001b[49m\u001b[43m \u001b[49m\u001b[43membed_dim\u001b[49m\u001b[43m,\u001b[49m\u001b[43m \u001b[49m\u001b[43mn_head\u001b[49m\u001b[43m,\u001b[49m\u001b[43m \u001b[49m\u001b[43mn_layer\u001b[49m\u001b[43m)\u001b[49m\u001b[38;5;241;43m.\u001b[39;49m\u001b[43mto\u001b[49m\u001b[43m(\u001b[49m\u001b[43mdevice\u001b[49m\u001b[43m)\u001b[49m\n\u001b[1;32m     13\u001b[0m model \u001b[38;5;241m=\u001b[39m torch\u001b[38;5;241m.\u001b[39mcompile(model)\n\u001b[1;32m     14\u001b[0m model\u001b[38;5;241m.\u001b[39mload_state_dict(torch\u001b[38;5;241m.\u001b[39mload(\u001b[38;5;124m\"\u001b[39m\u001b[38;5;124mharry_potter3R.pt\u001b[39m\u001b[38;5;124m\"\u001b[39m))\n",
      "File \u001b[0;32m/usr/lib/python3.11/site-packages/torch/nn/modules/module.py:1160\u001b[0m, in \u001b[0;36mModule.to\u001b[0;34m(self, *args, **kwargs)\u001b[0m\n\u001b[1;32m   1156\u001b[0m         \u001b[38;5;28;01mreturn\u001b[39;00m t\u001b[38;5;241m.\u001b[39mto(device, dtype \u001b[38;5;28;01mif\u001b[39;00m t\u001b[38;5;241m.\u001b[39mis_floating_point() \u001b[38;5;129;01mor\u001b[39;00m t\u001b[38;5;241m.\u001b[39mis_complex() \u001b[38;5;28;01melse\u001b[39;00m \u001b[38;5;28;01mNone\u001b[39;00m,\n\u001b[1;32m   1157\u001b[0m                     non_blocking, memory_format\u001b[38;5;241m=\u001b[39mconvert_to_format)\n\u001b[1;32m   1158\u001b[0m     \u001b[38;5;28;01mreturn\u001b[39;00m t\u001b[38;5;241m.\u001b[39mto(device, dtype \u001b[38;5;28;01mif\u001b[39;00m t\u001b[38;5;241m.\u001b[39mis_floating_point() \u001b[38;5;129;01mor\u001b[39;00m t\u001b[38;5;241m.\u001b[39mis_complex() \u001b[38;5;28;01melse\u001b[39;00m \u001b[38;5;28;01mNone\u001b[39;00m, non_blocking)\n\u001b[0;32m-> 1160\u001b[0m \u001b[38;5;28;01mreturn\u001b[39;00m \u001b[38;5;28;43mself\u001b[39;49m\u001b[38;5;241;43m.\u001b[39;49m\u001b[43m_apply\u001b[49m\u001b[43m(\u001b[49m\u001b[43mconvert\u001b[49m\u001b[43m)\u001b[49m\n",
      "File \u001b[0;32m/usr/lib/python3.11/site-packages/torch/nn/modules/module.py:810\u001b[0m, in \u001b[0;36mModule._apply\u001b[0;34m(self, fn, recurse)\u001b[0m\n\u001b[1;32m    808\u001b[0m \u001b[38;5;28;01mif\u001b[39;00m recurse:\n\u001b[1;32m    809\u001b[0m     \u001b[38;5;28;01mfor\u001b[39;00m module \u001b[38;5;129;01min\u001b[39;00m \u001b[38;5;28mself\u001b[39m\u001b[38;5;241m.\u001b[39mchildren():\n\u001b[0;32m--> 810\u001b[0m         \u001b[43mmodule\u001b[49m\u001b[38;5;241;43m.\u001b[39;49m\u001b[43m_apply\u001b[49m\u001b[43m(\u001b[49m\u001b[43mfn\u001b[49m\u001b[43m)\u001b[49m\n\u001b[1;32m    812\u001b[0m \u001b[38;5;28;01mdef\u001b[39;00m \u001b[38;5;21mcompute_should_use_set_data\u001b[39m(tensor, tensor_applied):\n\u001b[1;32m    813\u001b[0m     \u001b[38;5;28;01mif\u001b[39;00m torch\u001b[38;5;241m.\u001b[39m_has_compatible_shallow_copy_type(tensor, tensor_applied):\n\u001b[1;32m    814\u001b[0m         \u001b[38;5;66;03m# If the new tensor has compatible tensor type as the existing tensor,\u001b[39;00m\n\u001b[1;32m    815\u001b[0m         \u001b[38;5;66;03m# the current behavior is to change the tensor in-place using `.data =`,\u001b[39;00m\n\u001b[0;32m   (...)\u001b[0m\n\u001b[1;32m    820\u001b[0m         \u001b[38;5;66;03m# global flag to let the user control whether they want the future\u001b[39;00m\n\u001b[1;32m    821\u001b[0m         \u001b[38;5;66;03m# behavior of overwriting the existing tensor or not.\u001b[39;00m\n",
      "File \u001b[0;32m/usr/lib/python3.11/site-packages/torch/nn/modules/module.py:833\u001b[0m, in \u001b[0;36mModule._apply\u001b[0;34m(self, fn, recurse)\u001b[0m\n\u001b[1;32m    829\u001b[0m \u001b[38;5;66;03m# Tensors stored in modules are graph leaves, and we don't want to\u001b[39;00m\n\u001b[1;32m    830\u001b[0m \u001b[38;5;66;03m# track autograd history of `param_applied`, so we have to use\u001b[39;00m\n\u001b[1;32m    831\u001b[0m \u001b[38;5;66;03m# `with torch.no_grad():`\u001b[39;00m\n\u001b[1;32m    832\u001b[0m \u001b[38;5;28;01mwith\u001b[39;00m torch\u001b[38;5;241m.\u001b[39mno_grad():\n\u001b[0;32m--> 833\u001b[0m     param_applied \u001b[38;5;241m=\u001b[39m \u001b[43mfn\u001b[49m\u001b[43m(\u001b[49m\u001b[43mparam\u001b[49m\u001b[43m)\u001b[49m\n\u001b[1;32m    834\u001b[0m should_use_set_data \u001b[38;5;241m=\u001b[39m compute_should_use_set_data(param, param_applied)\n\u001b[1;32m    835\u001b[0m \u001b[38;5;28;01mif\u001b[39;00m should_use_set_data:\n",
      "File \u001b[0;32m/usr/lib/python3.11/site-packages/torch/nn/modules/module.py:1158\u001b[0m, in \u001b[0;36mModule.to.<locals>.convert\u001b[0;34m(t)\u001b[0m\n\u001b[1;32m   1155\u001b[0m \u001b[38;5;28;01mif\u001b[39;00m convert_to_format \u001b[38;5;129;01mis\u001b[39;00m \u001b[38;5;129;01mnot\u001b[39;00m \u001b[38;5;28;01mNone\u001b[39;00m \u001b[38;5;129;01mand\u001b[39;00m t\u001b[38;5;241m.\u001b[39mdim() \u001b[38;5;129;01min\u001b[39;00m (\u001b[38;5;241m4\u001b[39m, \u001b[38;5;241m5\u001b[39m):\n\u001b[1;32m   1156\u001b[0m     \u001b[38;5;28;01mreturn\u001b[39;00m t\u001b[38;5;241m.\u001b[39mto(device, dtype \u001b[38;5;28;01mif\u001b[39;00m t\u001b[38;5;241m.\u001b[39mis_floating_point() \u001b[38;5;129;01mor\u001b[39;00m t\u001b[38;5;241m.\u001b[39mis_complex() \u001b[38;5;28;01melse\u001b[39;00m \u001b[38;5;28;01mNone\u001b[39;00m,\n\u001b[1;32m   1157\u001b[0m                 non_blocking, memory_format\u001b[38;5;241m=\u001b[39mconvert_to_format)\n\u001b[0;32m-> 1158\u001b[0m \u001b[38;5;28;01mreturn\u001b[39;00m \u001b[43mt\u001b[49m\u001b[38;5;241;43m.\u001b[39;49m\u001b[43mto\u001b[49m\u001b[43m(\u001b[49m\u001b[43mdevice\u001b[49m\u001b[43m,\u001b[49m\u001b[43m \u001b[49m\u001b[43mdtype\u001b[49m\u001b[43m \u001b[49m\u001b[38;5;28;43;01mif\u001b[39;49;00m\u001b[43m \u001b[49m\u001b[43mt\u001b[49m\u001b[38;5;241;43m.\u001b[39;49m\u001b[43mis_floating_point\u001b[49m\u001b[43m(\u001b[49m\u001b[43m)\u001b[49m\u001b[43m \u001b[49m\u001b[38;5;129;43;01mor\u001b[39;49;00m\u001b[43m \u001b[49m\u001b[43mt\u001b[49m\u001b[38;5;241;43m.\u001b[39;49m\u001b[43mis_complex\u001b[49m\u001b[43m(\u001b[49m\u001b[43m)\u001b[49m\u001b[43m \u001b[49m\u001b[38;5;28;43;01melse\u001b[39;49;00m\u001b[43m \u001b[49m\u001b[38;5;28;43;01mNone\u001b[39;49;00m\u001b[43m,\u001b[49m\u001b[43m \u001b[49m\u001b[43mnon_blocking\u001b[49m\u001b[43m)\u001b[49m\n",
      "File \u001b[0;32m/usr/lib/python3.11/site-packages/torch/cuda/__init__.py:298\u001b[0m, in \u001b[0;36m_lazy_init\u001b[0;34m()\u001b[0m\n\u001b[1;32m    296\u001b[0m \u001b[38;5;28;01mif\u001b[39;00m \u001b[38;5;124m\"\u001b[39m\u001b[38;5;124mCUDA_MODULE_LOADING\u001b[39m\u001b[38;5;124m\"\u001b[39m \u001b[38;5;129;01mnot\u001b[39;00m \u001b[38;5;129;01min\u001b[39;00m os\u001b[38;5;241m.\u001b[39menviron:\n\u001b[1;32m    297\u001b[0m     os\u001b[38;5;241m.\u001b[39menviron[\u001b[38;5;124m\"\u001b[39m\u001b[38;5;124mCUDA_MODULE_LOADING\u001b[39m\u001b[38;5;124m\"\u001b[39m] \u001b[38;5;241m=\u001b[39m \u001b[38;5;124m\"\u001b[39m\u001b[38;5;124mLAZY\u001b[39m\u001b[38;5;124m\"\u001b[39m\n\u001b[0;32m--> 298\u001b[0m \u001b[43mtorch\u001b[49m\u001b[38;5;241;43m.\u001b[39;49m\u001b[43m_C\u001b[49m\u001b[38;5;241;43m.\u001b[39;49m\u001b[43m_cuda_init\u001b[49m\u001b[43m(\u001b[49m\u001b[43m)\u001b[49m\n\u001b[1;32m    299\u001b[0m \u001b[38;5;66;03m# Some of the queued calls may reentrantly call _lazy_init();\u001b[39;00m\n\u001b[1;32m    300\u001b[0m \u001b[38;5;66;03m# we need to just return without initializing in that case.\u001b[39;00m\n\u001b[1;32m    301\u001b[0m \u001b[38;5;66;03m# However, we must not let any *other* threads in!\u001b[39;00m\n\u001b[1;32m    302\u001b[0m _tls\u001b[38;5;241m.\u001b[39mis_initializing \u001b[38;5;241m=\u001b[39m \u001b[38;5;28;01mTrue\u001b[39;00m\n",
      "\u001b[0;31mRuntimeError\u001b[0m: No CUDA GPUs are available"
     ]
    }
   ],
   "source": [
    "from modelRoPE import *\n",
    "\n",
    "device = torch.device('cuda')\n",
    "\n",
    "context_length = 1000\n",
    "embed_dim = 128\n",
    "n_head = 4\n",
    "n_layer = 2\n",
    "batch_size = 64*4\n",
    "\n",
    "vocab = Vocab()\n",
    "model = LLM(vocab, context_length, embed_dim, n_head, n_layer).to(device)\n",
    "model = torch.compile(model)\n",
    "model.load_state_dict(torch.load(\"harry_potter3R.pt\"))"
   ]
  },
  {
   "cell_type": "markdown",
   "metadata": {},
   "source": [
    "# Generate"
   ]
  },
  {
   "cell_type": "code",
   "execution_count": 6,
   "metadata": {},
   "outputs": [
    {
     "name": "stdout",
     "output_type": "stream",
     "text": [
      "Harry potter was “The warlocks’ demyeh, I cannot help it. …”\n",
      "When they really go. The forest did not look funny. When afternoon were to enjoy it, it was not for the first time Harry had to set a verts walk to the boys for Christmas. He following Harry’s book, who said it was dusk-lit to be open for a moment to spend all S. Don’t anyone like France, I’m not wrong, I can abandon it! There will be no reason to catch Pettigrew too, but it doesn’t remember himself innocent —”\n",
      "“Would you hear about Krum,” said Harry. “That’s all right — the giant squid?”\n",
      "“Your Inner Eye —”\n",
      "“Exceeds must put him protected your recent day, an’ things, but don’t stop myself during the castle they bought a penalty? On us will be expelled? Ronan”\n",
      "“Well, we seventeen?” said Madam Rosmerta squeak that had insisted that losses too.\n",
      "“I think of the one who left otherwise at this fire,” said Ron, “for bezoar with any lengths. It’s an spawns him, as the troll looking at the other interesting. “He saw her, am I’ll be madly at least making me catch ’ve never hurting more than to drink no idea, I meaniclin- builds up-Keeper. … Oh —”\n",
      "“And itasley Is it’ Arts Magic — anybody in this Squibuster’s been their distinctive, I didn’t, he’d better,” he told him came to the first task carried between them getting quiet and I thought you promise he had expected to have received discussing things like things that meant what would blowin Hog”\n",
      "“You would bezoar brought you wish to you? Would he supposed to another thousand Petrified that it in the Fat Lady from the moment he hated.\n",
      "“She and I want to open at lasttle. Ernelling her go go on Christmas house-handed. It”\n",
      "Draco needed their best to her mouthday, big. That would beheading (Ron,” Harry, that” said Hermione in the same nose was too big,” said Harry, the more noses bewishers — even if it needed you know the prophecy,” said Harry felt close inspection into which — it”\n",
      "“He” said Harry, “Now one! er — er — you some goblin-Quirine.”\n",
      "Harry,” said Hermione, or missed one that concludes our temper.”\n",
      "“That” said Ginny sat down, they heard Phineasleys” he said pleasantly mature, and he made his first time we wouldn”\n",
      "“I just bet that far much kid in the spirit, you know it won” said Ron and the teachers” said Ron and he was more day, almost as usual nearby table outside on their last time you could be careful to Harry.\n",
      "“I dullo,” Harry!” said Ron said still represented safe from the same,” said Harry panted Ron was for him ran out of great enough. She was him raised it was a man called Pigwitted on what” said Malfoy was a moment she fell on Hog” said Ron standing in a teacher,” said Harry glanced down in the first time I mean another shriek. …”\n",
      "“I’m Professor,” said Ron, have were a small little she had transformed. “Never thought’t voice voice Harry felt strangely alarming!” said George” said Harry.\n",
      "“Not better for Professor Snape” said Hermione. “How could be somewhere outside Slughorn” Snape’s banged open yet again. “That I think of course they did.”\n",
      "\n",
      "\fChapter 35\n",
      "Harry had come on the lock it”\n",
      "“sameger get a toilet!” said Harry couldn” he went on the dark … that”\n",
      "The Astronomy!” said Hermione went on the Prime Minister” asked her mean, you heard, Tom, it tickled Sirius, who had been really confident.\n",
      "“Mr. …”\n",
      "“What is under a few remaining Death Etingape,” said Cho, but twice he finished the oldque Libat stir them all those ruddy Booster. The only Voldemort beating me mean, he let” said Ron appear of course she was miles away from a start as he” said Harry thought Mr. “Right Dumbledore he thought for Professor McGon quietly, an enormous winged the Death Eater” said Ginny’t move on Saturday morningglass or tugged himself. His screening words echoing as Harry stood up answer to Harry half-Ooooo powder-Finally, then. Harry, which was wondering what of North Tower. “You know playing at the nastastily but for no doubt so full chances of a bad enough to a while the musical mirror had finished it was your father,” murmuring what a split second year, showing it down Lupin“No, everyone worked for the name that”\n",
      "“Hermione waved her father” said Harry thought he brought me fact that”\n",
      "“No,” said a door of the aged brown face in the front of a clouded George and Luna, but Harry kept his desk. “COMurghorn blocking meclad ring a whole Send Snitchitch World Cup was a short completely dark and Harry moved from one last time I hate her short-known boy, two more of course I mean —”\n",
      "“Now few weeks after heaven” Ron, “Shall.”\n",
      "“But then. …”\n",
      "“Hermione nastily bulging yawning laugh in the Improper fluently. “I just like that one of a couple of course,” said Harry hastened Fawkes managed in the window was in the bellunk.\n",
      "”\n",
      "Hagrid finished the same time since,” said Professor McGonagall asked Snape’tonging Hermione glared at least daring a wide-ch, frowning Moody“Malfoy Lockhart called swiftly, therefore sprinting voice from a Death Eaters, his voice said Snape corrected him got off,” said Harry was not dimly. “See?”\n",
      "So you heard of them face of me.\n",
      "They might” snigrew shot through the street other of an answer; I took the middle of them shaking Hagrid emerged from her eyes spattering of the hobby of nowhere in his most of the thumbs- mounting voice hooves opportunity whacked Ears of a House-strang woman called amused smile back of an sparkled voice ringing voice voice from behind Harry and a second now his best finding hissed Hermione Granger. “Av Act was a voice an hour later all the Prime Minister of course indeed smiled Jackled Ron, then took off unlocking helping some perfect waiter and so stupidman kills Ginny was shouting at least talks into a catstruck,” she stormed out moldy girl whose splendid fields that smiled Peeves stared terrified voice interrupted Harry said. “eyed surprise,” said Harry had just thought he’re really did two of a voice of the first task of a Christmas potion-mole” said Ron”\n",
      "“II was nowhere to beak face.”\n",
      "“Hang on either three sets of course. “please,” said Harry caught behind him coiling up-mache …”\n",
      "Professor McGon-fashionedfashioned wardrobe to what?” said Dumbledore continued to the whey laugh from the silent.\n",
      "“What full national aware of it into the edge of her hands up rocking grubby wizarding slightly much more tartan. “I ’mouthed smile on my door outside Hermione said in hissed quickly sigh of every wordlessly but Ernie. “— old little friended herself in unison and his ability, the boy with such acreure — anything brother-Fools, Nymphad at last moment as he smiled and as hisOTTER REALLYERolas Flitories door to called to see Snape tugged the cold and he heard him dashed through the entrance hall vanished again, it seemed to our tongueless silence filled Harry hesitated, Bill was a second trooped back of a second years before Harry and his racket he said something as he opened her voice.\n",
      "“I had started dead girl in equal. Charlie’ icediced badge that dreamiest until darting spell. “The limping downcast voice from Professor Flitories revolted the edge of the Minister and he went pounding inside him spat at Harry thought Hermione croaked Diggling voice echoing defiantly by the only Father again, by the Firenze to the Grim and there was immobilized from behind them walked alongside him too.\n",
      "“Yeah, on your wake about a soft root of the moment Wood and the first creak around a lot of her robes sat there was banged his eyes, and Harry and a figure. “Oh — it away from Muriel gave these words “Is that voice behind her voice. Weasley in\n"
     ]
    }
   ],
   "source": [
    "g = model.generate(torch.tensor(vocab.encode(\"Harry potter was\"), dtype=torch.long)[None,:].to(device), 2000, temperature=1.0, top_k=None)\n",
    "print(vocab.decode(g[0].tolist()))"
   ]
  },
  {
   "cell_type": "markdown",
   "metadata": {},
   "source": [
    "# Test"
   ]
  },
  {
   "cell_type": "code",
   "execution_count": 3,
   "metadata": {},
   "outputs": [
    {
     "name": "stderr",
     "output_type": "stream",
     "text": [
      "Evaluating: 100%|██████████| 657/657 [01:24<00:00,  7.74it/s]"
     ]
    },
    {
     "name": "stdout",
     "output_type": "stream",
     "text": [
      "---------------------\n",
      "Validation NLL   4.42\n",
      "---------------------\n"
     ]
    },
    {
     "name": "stderr",
     "output_type": "stream",
     "text": [
      "\n"
     ]
    }
   ],
   "source": [
    "books = HarryPotter('harry_potter.txt')\n",
    "val_set = HarryPotterDataset(context_length, books, vocab, train=False)\n",
    "val_loader = DataLoader(val_set, batch_size=batch_size, shuffle=False, drop_last=False, pin_memory=True, num_workers=8)\n",
    "nll = model.evaluate_loss(val_loader, device)\n",
    "print(f\"---------------------\")\n",
    "print(f\"Validation NLL {f'{nll:.2f}':>6}\")\n",
    "print(f\"---------------------\")"
   ]
  },
  {
   "cell_type": "code",
   "execution_count": 2,
   "metadata": {},
   "outputs": [
    {
     "ename": "NameError",
     "evalue": "name 'nll' is not defined",
     "output_type": "error",
     "traceback": [
      "\u001b[0;31m---------------------------------------------------------------------------\u001b[0m",
      "\u001b[0;31mNameError\u001b[0m                                 Traceback (most recent call last)",
      "Cell \u001b[0;32mIn[2], line 3\u001b[0m\n\u001b[1;32m      1\u001b[0m \u001b[38;5;28;01mimport\u001b[39;00m \u001b[38;5;21;01minspect\u001b[39;00m\n\u001b[1;32m      2\u001b[0m \u001b[38;5;28;01mwith\u001b[39;00m \u001b[38;5;28mopen\u001b[39m(\u001b[38;5;124m\"\u001b[39m\u001b[38;5;124mlogs.txt\u001b[39m\u001b[38;5;124m\"\u001b[39m, \u001b[38;5;124m\"\u001b[39m\u001b[38;5;124ma\u001b[39m\u001b[38;5;124m\"\u001b[39m) \u001b[38;5;28;01mas\u001b[39;00m file:\n\u001b[0;32m----> 3\u001b[0m         file\u001b[38;5;241m.\u001b[39mwrite(\u001b[38;5;124mf\u001b[39m\u001b[38;5;124m\"\u001b[39m\u001b[38;5;124mmodel_file:\u001b[39m\u001b[38;5;132;01m{\u001b[39;00mos\u001b[38;5;241m.\u001b[39mpath\u001b[38;5;241m.\u001b[39mbasename(inspect\u001b[38;5;241m.\u001b[39mgetfile(LLM))\u001b[38;5;132;01m}\u001b[39;00m\u001b[38;5;124m, eval_loss: \u001b[39m\u001b[38;5;132;01m{\u001b[39;00m\u001b[43mnll\u001b[49m\u001b[38;5;132;01m}\u001b[39;00m\u001b[38;5;130;01m\\n\u001b[39;00m\u001b[38;5;124m\"\u001b[39m)\n",
      "\u001b[0;31mNameError\u001b[0m: name 'nll' is not defined"
     ]
    }
   ],
   "source": [
    "import inspect\n",
    "with open(\"logs.txt\", \"a\") as file:\n",
    "        file.write(f\"model_file:{os.path.basename(inspect.getfile(LLM))}, eval_loss: {nll}\\n\")"
   ]
  }
 ],
 "metadata": {
  "kernelspec": {
   "display_name": "DeepLearning",
   "language": "python",
   "name": "python3"
  },
  "language_info": {
   "codemirror_mode": {
    "name": "ipython",
    "version": 3
   },
   "file_extension": ".py",
   "mimetype": "text/x-python",
   "name": "python",
   "nbconvert_exporter": "python",
   "pygments_lexer": "ipython3",
   "version": "3.11.6"
  }
 },
 "nbformat": 4,
 "nbformat_minor": 2
}
